{
 "cells": [
  {
   "cell_type": "markdown",
   "metadata": {},
   "source": [
    "# Interactive run script\n",
    "\n",
    "To get started, first specify the Vivado path and run the block below"
   ]
  },
  {
   "cell_type": "code",
   "execution_count": null,
   "metadata": {},
   "outputs": [],
   "source": [
    "# Interactive run script setup\n",
    "import sys,os\n",
    "sys.path.append(os.path.realpath(\"./scripts\"))\n",
    "import importlib\n",
    "import interactive_run_backend\n",
    "from interactive_run_backend import *\n",
    "importlib.reload(interactive_run_backend)\n",
    "\n",
    "## Please specify the Vivado Path\n",
    "VIVADO_PATH = \"/tools/Xilinx/Vivado/2021.1/\"\n",
    "\n",
    "run = interactive_run(VIVADO_PATH)"
   ]
  },
  {
   "cell_type": "markdown",
   "metadata": {},
   "source": [
    "# Run Pack and Integrate"
   ]
  },
  {
   "cell_type": "code",
   "execution_count": null,
   "metadata": {},
   "outputs": [],
   "source": [
    "run.reset_stages()\n",
    "\n",
    "run.stage_pack  = 1\n",
    "run.stage_integ = 1\n",
    "\n",
    "cmd = run.generate_vivado_cmd()\n",
    "run.run_vivado(cmd)"
   ]
  },
  {
   "cell_type": "markdown",
   "metadata": {},
   "source": [
    "# Generate Xilinx IPs"
   ]
  },
  {
   "cell_type": "code",
   "execution_count": null,
   "metadata": {},
   "outputs": [],
   "source": [
    "run.reset_stages()\n",
    "\n",
    "run.stage_gen_xilinx_ip = 1\n",
    "\n",
    "cmd = run.generate_vivado_cmd()\n",
    "run.run_vivado(cmd)\n"
   ]
  },
  {
   "cell_type": "markdown",
   "metadata": {},
   "source": [
    "# Run synthesis and place and route"
   ]
  },
  {
   "cell_type": "code",
   "execution_count": null,
   "metadata": {},
   "outputs": [],
   "source": [
    "run.reset_stages()\n",
    "\n",
    "run.stage_impl = 1\n",
    "\n",
    "cmd = run.generate_vivado_cmd()\n",
    "run.run_vivado(cmd)\n"
   ]
  },
  {
   "cell_type": "markdown",
   "metadata": {},
   "source": [
    "# Customized flow"
   ]
  },
  {
   "cell_type": "code",
   "execution_count": null,
   "metadata": {},
   "outputs": [],
   "source": [
    "run.reset_stages()\n",
    "\n",
    "run.stage_pack          = 0\n",
    "run.stage_integ         = 0\n",
    "run.stage_gen_xilinx_ip = 0\n",
    "run.stage_impl          = 0\n",
    "run.stage_build_ws      = 0\n",
    "run.stage_lint          = 0\n",
    "\n",
    "cmd = run.generate_vivado_cmd()\n",
    "run.run_vivado(cmd)"
   ]
  }
 ],
 "metadata": {
  "interpreter": {
   "hash": "0b61ec9ded6c4d421858cd26fc5df3f8752c16687ea720f162662140448445b4"
  },
  "kernelspec": {
   "display_name": "Python 3.9.5 64-bit ('python_venv': venv)",
   "language": "python",
   "name": "python3"
  },
  "language_info": {
   "codemirror_mode": {
    "name": "ipython",
    "version": 3
   },
   "file_extension": ".py",
   "mimetype": "text/x-python",
   "name": "python",
   "nbconvert_exporter": "python",
   "pygments_lexer": "ipython3",
   "version": "3.9.5"
  },
  "orig_nbformat": 4
 },
 "nbformat": 4,
 "nbformat_minor": 2
}
